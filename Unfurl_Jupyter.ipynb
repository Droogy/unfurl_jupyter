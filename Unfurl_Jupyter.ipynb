{
 "cells": [
  {
   "cell_type": "code",
   "execution_count": 1,
   "id": "054f0632",
   "metadata": {
    "scrolled": true
   },
   "outputs": [],
   "source": [
    "import os\n",
    "import csv\n",
    "from unfurl import core"
   ]
  },
  {
   "cell_type": "code",
   "execution_count": 2,
   "id": "4cf1fa33",
   "metadata": {},
   "outputs": [
    {
     "name": "stdout",
     "output_type": "stream",
     "text": [
      "https://twitter.com/0xDroogy/status/1551624816108658688\n"
     ]
    }
   ],
   "source": [
    "items_to_unfurl = [f'{input()}']"
   ]
  },
  {
   "cell_type": "code",
   "execution_count": 3,
   "id": "d490ede7",
   "metadata": {},
   "outputs": [],
   "source": [
    "def unfurler(item):\n",
    "    unfurl_instance = core.Unfurl(remote_lookups=True)\n",
    "    unfurl_instance.add_to_queue(\n",
    "        data_type='url', key=None,\n",
    "        value=item)\n",
    "    unfurl_instance.parse_queue()\n",
    "    return(unfurl_instance.generate_text_tree(\n",
    "        detailed=False, output_filter=False))\n",
    "\n",
    "def write_to_csv(item):\n",
    "    with open('unfurl_results.csv', 'w', newline='', encoding='utf-8') as csv_file:\n",
    "        csv_writer = csv.writer(csv_file, quoting=csv.QUOTE_ALL)\n",
    "        csv_writer.writerow(['url', 'unfurled'])\n",
    "        for item in items_to_unfurl:\n",
    "            unfurl_instance = core.Unfurl(remote_lookups=True)\n",
    "            unfurl_instance.add_to_queue(\n",
    "                data_type='url', key=None,\n",
    "                value=item)\n",
    "            unfurl_instance.parse_queue()\n",
    "            csv_writer.writerow(\n",
    "                [item, unfurl_instance.generate_text_tree(\n",
    "                    detailed=False,\n",
    "                    output_filter=False)])"
   ]
  },
  {
   "cell_type": "code",
   "execution_count": 4,
   "id": "3489b81d",
   "metadata": {},
   "outputs": [
    {
     "name": "stdout",
     "output_type": "stream",
     "text": [
      "Would you like to write results to a CSV? (Y/N): yes\n"
     ]
    }
   ],
   "source": [
    "answer = input('Would you like to write results to a CSV? (Y/N): ')"
   ]
  },
  {
   "cell_type": "code",
   "execution_count": 5,
   "id": "9947f489",
   "metadata": {},
   "outputs": [
    {
     "name": "stdout",
     "output_type": "stream",
     "text": [
      "[1] https://twitter.com/0xDroogy/status/1551624816108658688\n",
      " ├─(u)─[2] Scheme: https\n",
      " ├─(u)─[3] twitter.com\n",
      " |  ├─(u)─[5] Domain Name: twitter.com\n",
      " |  |  └─(u)─[10] Domain is extremely popular (found in \"Top 1000\" lists)\n",
      " |  └─(u)─[6] TLD: com\n",
      " └─(u)─[4] /0xDroogy/status/1551624816108658688\n",
      "    ├─(u)─[7] 1: 0xDroogy\n",
      "    ├─(u)─[8] 2: status\n",
      "    └─(u)─[9] 3: 1551624816108658688\n",
      "       ├─(❄)─[11] Timestamp: 1658771158612\n",
      "       |  └─(🕓)─[14] 2022-07-25 17:45:58.612\n",
      "       ├─(❄)─[12] Machine ID: 358\n",
      "       └─(❄)─[13] Sequence: 0\n",
      "\n"
     ]
    }
   ],
   "source": [
    "if answer.upper() == 'Y' or answer.upper() == 'YES':\n",
    "    for item in items_to_unfurl:\n",
    "        print(unfurler(item))\n",
    "        print()\n",
    "        write_to_csv(item)\n",
    "else:\n",
    "    for item in items_to_unfurl:\n",
    "        print(unfurler(item))\n",
    "        print()"
   ]
  }
 ],
 "metadata": {
  "kernelspec": {
   "display_name": "Python 3 (ipykernel)",
   "language": "python",
   "name": "python3"
  },
  "language_info": {
   "codemirror_mode": {
    "name": "ipython",
    "version": 3
   },
   "file_extension": ".py",
   "mimetype": "text/x-python",
   "name": "python",
   "nbconvert_exporter": "python",
   "pygments_lexer": "ipython3",
   "version": "3.9.7"
  }
 },
 "nbformat": 4,
 "nbformat_minor": 5
}
